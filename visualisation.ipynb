{
 "cells": [
  {
   "cell_type": "markdown",
   "metadata": {},
   "source": [
    "# Visualisation\n",
    "\n",
    "This file contain tools to visualise \"pt\" graph and \"pkl\" arc file. This can be used to see the input of the neural network and the preprocessing state."
   ]
  },
  {
   "cell_type": "markdown",
   "metadata": {},
   "source": [
    "## Display pt file"
   ]
  },
  {
   "cell_type": "code",
   "execution_count": null,
   "metadata": {},
   "outputs": [],
   "source": [
    "file_path = r\"C:\\Users\\Cardiff\\Documents\\Programmation\\AMGNN\\data\\light\\processed\\Thermomecha95428laser200W_at_step_00015.pt\"\n",
    "name = \"step 15\"  # Display name for polyscope"
   ]
  },
  {
   "cell_type": "code",
   "execution_count": 1,
   "metadata": {
    "tags": []
   },
   "outputs": [],
   "source": [
    "import torch\n",
    "import polyscope as ps\n",
    "import numpy as np\n",
    "from pathlib import Path\n",
    "from utils.config import read_config\n",
    "\n",
    "\n",
    "configuration = read_config(Path(\"configs\"))\n",
    "ps.set_up_dir(\"z_up\")\n",
    "ps.init()\n"
   ]
  },
  {
   "cell_type": "code",
   "execution_count": 2,
   "metadata": {},
   "outputs": [
    {
     "data": {
      "text/plain": [
       "{'raw_data': 'data/light',\n",
       " 'project': 'AMGNN',\n",
       " 'float_type': 'float32',\n",
       " 'pooling_process': 2,\n",
       " 'default_powder_temperature': 25,\n",
       " 'scaling_temperature': 3000,\n",
       " 'scaling_power': 1000,\n",
       " 'scaling_speed': 1500,\n",
       " 'scaling_size': 50,\n",
       " 'optimizer': 'adam',\n",
       " 'learning_rate': 0.01,\n",
       " 'neighbour_radius': '2e-03',\n",
       " 'neighbour_k': 26,\n",
       " 'input_channels': 11,\n",
       " 'hidden_channels': 128,\n",
       " 'out_channels': 4,\n",
       " 'aggregator': 'mean',\n",
       " 'distance_upper_bound': '1e-6'}"
      ]
     },
     "execution_count": 2,
     "metadata": {},
     "output_type": "execute_result"
    }
   ],
   "source": [
    "configuration"
   ]
  },
  {
   "cell_type": "code",
   "execution_count": 3,
   "metadata": {
    "collapsed": false,
    "jupyter": {
     "outputs_hidden": false
    },
    "pycharm": {
     "name": "#%%\n"
    }
   },
   "outputs": [],
   "source": [
    "graph = torch.load(file_path)"
   ]
  },
  {
   "cell_type": "code",
   "execution_count": 4,
   "metadata": {},
   "outputs": [
    {
     "data": {
      "text/plain": [
       "(tensor([ 1.5338e-01,  7.2329e-06,  1.8768e-07, -1.1748e-06]),\n",
       " tensor([ 6.6667e-04,  2.0000e-01,  3.0000e-01,  2.5000e-05,  0.0000e+00,\n",
       "          0.0000e+00,  1.0000e+00,  1.5310e-01,  7.3669e-06,  2.0624e-07,\n",
       "         -1.2093e-06]),\n",
       " tensor([0.1630, 0.1770, 0.0000]))"
      ]
     },
     "execution_count": 4,
     "metadata": {},
     "output_type": "execute_result"
    }
   ],
   "source": [
    "# Y = temperature, X displacement, Y displaement, Z displament\n",
    "# X = laser_speed, laser_power, layer_thickness, time_step, type, type, type, past_temp, past_x_displacement, past_y_displacement, past_z_displacement\n",
    "\n",
    "graph.y[0], graph.x[0], graph.pos[0]"
   ]
  },
  {
   "cell_type": "code",
   "execution_count": 5,
   "metadata": {},
   "outputs": [],
   "source": [
    "y_temperature = graph.y[:,0] * configuration[\"scaling_temperature\"]\n",
    "y_disp_x = graph.y[:,1] * configuration[\"scaling_size\"]\n",
    "y_disp_y = graph.y[:,2] * configuration[\"scaling_size\"]\n",
    "y_disp_z = graph.y[:,3] * configuration[\"scaling_size\"]\n",
    "\n",
    "y_displacement_vectors = np.vstack((y_disp_x, y_disp_y, y_disp_z)).T\n",
    "\n",
    "x_laser_speed = graph.x[:,0] * configuration[\"scaling_speed\"]\n",
    "x_laser_power = graph.x[:,1] * configuration[\"scaling_power\"]\n",
    "x_layer_thickness = graph.x[:,2]\n",
    "x_time_step = graph.x[:,3]\n",
    "x_type = np.argmax(graph.x[:,4:7], axis=1)\n",
    "x_past_temp = graph.x[:,7] * configuration[\"scaling_temperature\"]\n",
    "x_past_x_displacement = graph.x[:,8] * configuration[\"scaling_size\"]\n",
    "x_past_y_displacement = graph.x[:,9] * configuration[\"scaling_size\"]\n",
    "x_past_z_displacement = graph.x[:,10] * configuration[\"scaling_size\"]\n",
    "          "
   ]
  },
  {
   "cell_type": "code",
   "execution_count": 6,
   "metadata": {},
   "outputs": [],
   "source": [
    "coordinate = graph.pos.numpy()\n",
    "edge_index = graph.edge_index.numpy()\n",
    "\n",
    "ps_net = ps.register_curve_network(name, coordinate, np.array(edge_index).T,\n",
    "                                                radius=0.002)\n",
    "ps_net.add_scalar_quantity(\"Y temperature\", y_temperature, cmap=\"jet\")\n",
    "ps_net.add_scalar_quantity(\"Y displacement X\", y_disp_x, cmap=\"jet\")\n",
    "ps_net.add_scalar_quantity(\"Y displacement Y\", y_disp_y, cmap=\"jet\")\n",
    "ps_net.add_scalar_quantity(\"Y displacement Z\", y_disp_z, cmap=\"jet\")\n",
    "ps_net.add_vector_quantity(\"Y Deformation vectors\", y_displacement_vectors)\n",
    "\n",
    "\n",
    "data = {\n",
    "    \"laser speed\": x_laser_speed,\n",
    "    \"laser power\": x_laser_power,\n",
    "    \"layer thickness\": x_layer_thickness,\n",
    "    \"time step\": x_time_step,\n",
    "    \"type\": x_type,\n",
    "    \"past temperature\": x_past_temp,\n",
    "    \"past displacement X\" : x_past_x_displacement,\n",
    "    \"past displacement Y\" : x_past_y_displacement,\n",
    "    \"past displacement Z\" : x_past_z_displacement,\n",
    "}\n",
    "\n",
    "for key in data.keys():\n",
    "    \n",
    "    ps_net.add_scalar_quantity(f\"X {key}\", data[key], cmap=\"jet\")\n"
   ]
  },
  {
   "cell_type": "code",
   "execution_count": 7,
   "metadata": {},
   "outputs": [],
   "source": [
    "ps.show()"
   ]
  },
  {
   "cell_type": "markdown",
   "metadata": {},
   "source": [
    "## Display pkl arc file"
   ]
  },
  {
   "cell_type": "code",
   "execution_count": 20,
   "metadata": {},
   "outputs": [],
   "source": [
    "import pickle"
   ]
  },
  {
   "cell_type": "code",
   "execution_count": 23,
   "metadata": {},
   "outputs": [],
   "source": [
    "file = r\"C:\\Users\\Cardiff\\Documents\\Programmation\\AMGNN\\data\\light\\tmp_arc\\Thermomecha95428laser200W_at_step_00057.pkl\"\n",
    "\n",
    "with open(file, 'rb') as pickle_file:\n",
    "    arc = pickle.load(pickle_file)"
   ]
  },
  {
   "cell_type": "code",
   "execution_count": 25,
   "metadata": {},
   "outputs": [],
   "source": [
    "arc.display()"
   ]
  }
 ],
 "metadata": {
  "kernelspec": {
   "display_name": "Python 3 (ipykernel)",
   "language": "python",
   "name": "python3"
  },
  "language_info": {
   "codemirror_mode": {
    "name": "ipython",
    "version": 3
   },
   "file_extension": ".py",
   "mimetype": "text/x-python",
   "name": "python",
   "nbconvert_exporter": "python",
   "pygments_lexer": "ipython3",
   "version": "3.9.7"
  }
 },
 "nbformat": 4,
 "nbformat_minor": 4
}
