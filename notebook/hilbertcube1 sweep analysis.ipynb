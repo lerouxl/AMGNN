{
 "cells": [
  {
   "cell_type": "markdown",
   "metadata": {},
   "source": [
    "# Analysis of the HilbertCube1 sweep results\n",
    "\n",
    "This analysis will:\n",
    "1- Load the csv results files on the shape comparison of this analysis\n",
    "2- Compare the error results with the differents metrics"
   ]
  },
  {
   "cell_type": "code",
   "execution_count": 1,
   "metadata": {
    "collapsed": false,
    "jupyter": {
     "outputs_hidden": false
    }
   },
   "outputs": [],
   "source": [
    "import numpy\n",
    "import plotly\n",
    "from pathlib import Path\n",
    "from tqdm import tqdm\n",
    "from typing import Tuple\n",
    "import pyvista as pv\n",
    "import numpy as np\n",
    "import plotly.express as px\n",
    "import pandas as pd"
   ]
  },
  {
   "cell_type": "markdown",
   "metadata": {},
   "source": [
    "## Variables"
   ]
  },
  {
   "cell_type": "code",
   "execution_count": 2,
   "metadata": {
    "collapsed": false,
    "jupyter": {
     "outputs_hidden": false
    }
   },
   "outputs": [],
   "source": [
    "DATA_PATH = Path(r\"E:\\Leopold\\Chapitre 6 - AMGNN\\Results\\Sweep 1 HilbertCube1 shape\\test_output\")"
   ]
  },
  {
   "cell_type": "markdown",
   "metadata": {},
   "source": [
    "## List of runs folders"
   ]
  },
  {
   "cell_type": "code",
   "execution_count": 3,
   "metadata": {},
   "outputs": [
    {
     "data": {
      "text/plain": [
       "[WindowsPath('E:/Leopold/Chapitre 6 - AMGNN/Results/Sweep 1 HilbertCube1 shape/test_output/2023_03_20_18_49_simple_gnn_0.7_0.15_0.15lr_1e-03 test_output'),\n",
       " WindowsPath('E:/Leopold/Chapitre 6 - AMGNN/Results/Sweep 1 HilbertCube1 shape/test_output/2023_03_21_09_14_simple_gnn_1_0_0lr_1e-03 test_output'),\n",
       " WindowsPath('E:/Leopold/Chapitre 6 - AMGNN/Results/Sweep 1 HilbertCube1 shape/test_output/2023_03_21_23_39_double_head_simple_gnn_1_0_0lr_1e-03 test_output'),\n",
       " WindowsPath('E:/Leopold/Chapitre 6 - AMGNN/Results/Sweep 1 HilbertCube1 shape/test_output/2023_03_22_14_23_simple_conv_1_0_0lr_1e-03 test_output'),\n",
       " WindowsPath('E:/Leopold/Chapitre 6 - AMGNN/Results/Sweep 1 HilbertCube1 shape/test_output/2023_03_23_05_24_double_head_simple_conv_0.7_0.15_0.15lr_1e-03 test_output'),\n",
       " WindowsPath('E:/Leopold/Chapitre 6 - AMGNN/Results/Sweep 1 HilbertCube1 shape/test_output/2023_03_23_11_55_simple_conv_0.5_0.25_0.25lr_1e-03 test_output'),\n",
       " WindowsPath('E:/Leopold/Chapitre 6 - AMGNN/Results/Sweep 1 HilbertCube1 shape/test_output/2023_03_23_12_23_double_head_simple_conv_0.5_0.25_0.25lr_1e-03 test_output'),\n",
       " WindowsPath('E:/Leopold/Chapitre 6 - AMGNN/Results/Sweep 1 HilbertCube1 shape/test_output/2023_03_23_19_09_simple_conv_0.33_0.33_0.33lr_1e-03 test_output'),\n",
       " WindowsPath('E:/Leopold/Chapitre 6 - AMGNN/Results/Sweep 1 HilbertCube1 shape/test_output/2023_03_23_20_27_double_head_simple_conv_0.33_0.33_0.33lr_1e-03 test_output'),\n",
       " WindowsPath('E:/Leopold/Chapitre 6 - AMGNN/Results/Sweep 1 HilbertCube1 shape/test_output/2023_03_24_13_25_double_head_simple_gnn_0.7_0.15_0.15lr_1e-03 test_output'),\n",
       " WindowsPath('E:/Leopold/Chapitre 6 - AMGNN/Results/Sweep 1 HilbertCube1 shape/test_output/2023_03_25_04_31_simple_gnn_0.33_0.33_0.33lr_1e-03 test_output'),\n",
       " WindowsPath('E:/Leopold/Chapitre 6 - AMGNN/Results/Sweep 1 HilbertCube1 shape/test_output/2023_03_25_19_08_double_head_simple_gnn_0.33_0.33_0.33lr_1e-03 test_output'),\n",
       " WindowsPath('E:/Leopold/Chapitre 6 - AMGNN/Results/Sweep 1 HilbertCube1 shape/test_output/2023_04_04_14_28_double_head_simple_conv_1_0_0lr_1e-03 test_output'),\n",
       " WindowsPath('E:/Leopold/Chapitre 6 - AMGNN/Results/Sweep 1 HilbertCube1 shape/test_output/2023_04_05_05_17_simple_conv_0.7_0.15_0.15lr_1e-03 test_output'),\n",
       " WindowsPath('E:/Leopold/Chapitre 6 - AMGNN/Results/Sweep 1 HilbertCube1 shape/test_output/2023_04_05_20_14_simple_gnn_0.5_0.25_0.25lr_1e-03 test_output'),\n",
       " WindowsPath('E:/Leopold/Chapitre 6 - AMGNN/Results/Sweep 1 HilbertCube1 shape/test_output/2023_04_06_17_32_double_head_simple_gnn_0.5_0.25_0.25lr_1e-03 test_output')]"
      ]
     },
     "execution_count": 3,
     "metadata": {},
     "output_type": "execute_result"
    }
   ],
   "source": [
    "run_folders = DATA_PATH.iterdir()\n",
    "run_folders = [ f for f in run_folders if f.is_dir()]\n",
    "run_folders"
   ]
  },
  {
   "cell_type": "code",
   "execution_count": 4,
   "metadata": {
    "collapsed": false,
    "jupyter": {
     "outputs_hidden": false
    }
   },
   "outputs": [
    {
     "data": {
      "text/plain": [
       "(0.0045510596, 0.0020865833)"
      ]
     },
     "execution_count": 4,
     "metadata": {},
     "output_type": "execute_result"
    }
   ],
   "source": [
    "def extract_results(folder_path: Path, metric_name:str, compute:str = \"mean\") -> Tuple[float,float]:\n",
    "    \"\"\" Extract the metric results and its stadard deviation from a results folder.\n",
    "    \n",
    "    From all vtk files in the folder_path, extract the decired metric and compute its mean (compute) and stadard deviation.\n",
    "    Args:\n",
    "        - folder_path: Path to the folder containing all .vtk files\n",
    "        - metric_name: str of the stored metric in the .vtk files\n",
    "        - compute: str (\"mean\") was computation to do to the extracted metrics   \n",
    "        \n",
    "    Return:\n",
    "        - float : the mean (or compute) of the metric\n",
    "        - float : the stadard deviation of the metric\n",
    "    \"\"\"\n",
    "    # Type check\n",
    "    folder_path = Path(folder_path)\n",
    "    metric_name = str(metric_name)\n",
    "    compute = str(compute)\n",
    "    \n",
    "    # Initialise an empty array to store the metric results\n",
    "    metric_results = []\n",
    "    \n",
    "    # List vtk files in the given folder\n",
    "    vtk_files = list(folder_path.glob(\"*.vtk\"))\n",
    "    \n",
    "    if len(vtk_files) == 0:\n",
    "        raise FileNotFoundError(f\"No vtk files found in {folder_path}\")\n",
    "        \n",
    "    # For each vtk files, read the metric and add it to the metric_results array\n",
    "    for file in vtk_files:\n",
    "        vtk = pv.read(file)\n",
    "        \n",
    "        # Check that the desired metric exist and add it to the metric_results array\n",
    "        if metric_name in vtk.array_names:\n",
    "            metric_results.extend(vtk[metric_name])\n",
    "        else:\n",
    "            raise KeyError(f\"Key {metric_name} is not present in this vtk files. The available keys are: {vtk.array_names}\")\n",
    "    \n",
    "    # Compute statistic on the metric_results array \n",
    "    if compute == \"mean\":\n",
    "        metric = np.mean(metric_results)  \n",
    "    elif compute == \"max\":\n",
    "        metric = np.max(metric_results)\n",
    "    elif compute == \"min\":\n",
    "        metric = np.min(metric_results)\n",
    "    elif compute == \"median\":\n",
    "        metric = np.median(metric_results)\n",
    "    else:\n",
    "        raise NotImplemented(f\"Compute keywork {compute} not implemented\")\n",
    "        \n",
    "    std = np.std(metric_results)\n",
    "    \n",
    "    return metric, std\n",
    "    \n",
    "                     \n",
    "\n",
    "extract_results(run_folders[0], \"L1\", \"mean\")"
   ]
  },
  {
   "cell_type": "code",
   "execution_count": 5,
   "metadata": {},
   "outputs": [
    {
     "data": {
      "text/plain": [
       "['Distances from simulation ray trace (mm)',\n",
       " 'Normal',\n",
       " 'Simufact',\n",
       " 'AMGNN',\n",
       " 'Difference',\n",
       " 'MSE',\n",
       " 'L1',\n",
       " 'L2',\n",
       " 'implicit_distance',\n",
       " 'Distances from simulation (mm)']"
      ]
     },
     "execution_count": 5,
     "metadata": {},
     "output_type": "execute_result"
    }
   ],
   "source": [
    "pv.read(list(run_folders[0].glob(\"*.vtk\"))[0]).array_names"
   ]
  },
  {
   "cell_type": "markdown",
   "metadata": {},
   "source": [
    "## Apply to all runs"
   ]
  },
  {
   "cell_type": "code",
   "execution_count": 15,
   "metadata": {},
   "outputs": [
    {
     "name": "stderr",
     "output_type": "stream",
     "text": [
      "100%|██████████████████████████████████████████████████████████████████████████████████████████████████████████████████████████████████████████████████████████████████████████████████████████████████| 16/16 [00:02<00:00,  7.55it/s]\n"
     ]
    },
    {
     "data": {
      "application/vnd.plotly.v1+json": {
       "config": {
        "plotlyServerURL": "https://plot.ly"
       },
       "data": [
        {
         "alignmentgroup": "True",
         "error_y": {
          "array": [
           0.001783442621981204,
           0.012260738362149191,
           0.006728974620524779,
           0.0022705646440745906
          ]
         },
         "hovertemplate": "Lambda values=λ_1:0.33 λ_2:0.33 λ_3:0.33<br>name=%{x}<br>metric=%{y}<extra></extra>",
         "legendgroup": "λ_1:0.33 λ_2:0.33 λ_3:0.33",
         "marker": {
          "color": "#636efa",
          "pattern": {
           "shape": ""
          }
         },
         "name": "λ_1:0.33 λ_2:0.33 λ_3:0.33",
         "offsetgroup": "λ_1:0.33 λ_2:0.33 λ_3:0.33",
         "orientation": "v",
         "showlegend": true,
         "textposition": "auto",
         "type": "bar",
         "x": [
          "simple_conv_0.33_0.33_0.33lr_1e-03",
          "double_head_simple_conv_0.33_0.33_0.33lr_1e-03",
          "simple_gnn_0.33_0.33_0.33lr_1e-03",
          "double_head_simple_gnn_0.33_0.33_0.33lr_1e-03"
         ],
         "xaxis": "x",
         "y": [
          0.0002021351974690333,
          0.0003960428002756089,
          0.00054931640625,
          0.0010690339840948582
         ],
         "yaxis": "y"
        },
        {
         "alignmentgroup": "True",
         "error_y": {
          "array": [
           0.014078306909685569,
           0.013538647690232362,
           0.006908623056627935,
           0.003231391335461358
          ]
         },
         "hovertemplate": "Lambda values=λ_1:0.7 λ_2:0.15 λ_3:0.15<br>name=%{x}<br>metric=%{y}<extra></extra>",
         "legendgroup": "λ_1:0.7 λ_2:0.15 λ_3:0.15",
         "marker": {
          "color": "#EF553B",
          "pattern": {
           "shape": ""
          }
         },
         "name": "λ_1:0.7 λ_2:0.15 λ_3:0.15",
         "offsetgroup": "λ_1:0.7 λ_2:0.15 λ_3:0.15",
         "orientation": "v",
         "showlegend": true,
         "textposition": "auto",
         "type": "bar",
         "x": [
          "double_head_simple_conv_0.7_0.15_0.15lr_1e-03",
          "simple_conv_0.7_0.15_0.15lr_1e-03",
          "double_head_simple_gnn_0.7_0.15_0.15lr_1e-03",
          "simple_gnn_0.7_0.15_0.15lr_1e-03"
         ],
         "xaxis": "x",
         "y": [
          0.0002647489891387522,
          0.0004507015401031822,
          0.00048828125,
          0.0006103515625
         ],
         "yaxis": "y"
        },
        {
         "alignmentgroup": "True",
         "error_y": {
          "array": [
           0.0057108603227045,
           0.018812938492952038,
           0.007030306570907297,
           0.006473732432003149
          ]
         },
         "hovertemplate": "Lambda values=λ_1:0.5 λ_2:0.25 λ_3:0.25<br>name=%{x}<br>metric=%{y}<extra></extra>",
         "legendgroup": "λ_1:0.5 λ_2:0.25 λ_3:0.25",
         "marker": {
          "color": "#00cc96",
          "pattern": {
           "shape": ""
          }
         },
         "name": "λ_1:0.5 λ_2:0.25 λ_3:0.25",
         "offsetgroup": "λ_1:0.5 λ_2:0.25 λ_3:0.25",
         "orientation": "v",
         "showlegend": true,
         "textposition": "auto",
         "type": "bar",
         "x": [
          "simple_gnn_0.5_0.25_0.25lr_1e-03",
          "double_head_simple_conv_0.5_0.25_0.25lr_1e-03",
          "simple_conv_0.5_0.25_0.25lr_1e-03",
          "double_head_simple_gnn_0.5_0.25_0.25lr_1e-03"
         ],
         "xaxis": "x",
         "y": [
          0.00033874096698127687,
          0.0005167722702026367,
          0.0007534507312811911,
          0.0009918212890625
         ],
         "yaxis": "y"
        },
        {
         "alignmentgroup": "True",
         "error_y": {
          "array": [
           0.01657727646678643,
           0.013387087328402781,
           0.006857360630039232,
           0.020794303019978692
          ]
         },
         "hovertemplate": "Lambda values=λ_1:1 λ_2:0 λ_3:0<br>name=%{x}<br>metric=%{y}<extra></extra>",
         "legendgroup": "λ_1:1 λ_2:0 λ_3:0",
         "marker": {
          "color": "#ab63fa",
          "pattern": {
           "shape": ""
          }
         },
         "name": "λ_1:1 λ_2:0 λ_3:0",
         "offsetgroup": "λ_1:1 λ_2:0 λ_3:0",
         "orientation": "v",
         "showlegend": true,
         "textposition": "auto",
         "type": "bar",
         "x": [
          "double_head_simple_conv_1_0_0lr_1e-03",
          "double_head_simple_gnn_1_0_0lr_1e-03",
          "simple_gnn_1_0_0lr_1e-03",
          "simple_conv_1_0_0lr_1e-03"
         ],
         "xaxis": "x",
         "y": [
          0.0004607746086549014,
          0.0005696886219084263,
          0.0006530884420499206,
          0.0009441375732421875
         ],
         "yaxis": "y"
        }
       ],
       "layout": {
        "barmode": "relative",
        "height": 1040,
        "legend": {
         "orientation": "h",
         "title": {
          "text": "Lambda values"
         },
         "tracegroupgap": 0,
         "x": 0.5,
         "xanchor": "center",
         "y": -0.4,
         "yanchor": "bottom"
        },
        "margin": {
         "t": 60
        },
        "template": {
         "data": {
          "bar": [
           {
            "error_x": {
             "color": "#2a3f5f"
            },
            "error_y": {
             "color": "#2a3f5f"
            },
            "marker": {
             "line": {
              "color": "#E5ECF6",
              "width": 0.5
             },
             "pattern": {
              "fillmode": "overlay",
              "size": 10,
              "solidity": 0.2
             }
            },
            "type": "bar"
           }
          ],
          "barpolar": [
           {
            "marker": {
             "line": {
              "color": "#E5ECF6",
              "width": 0.5
             },
             "pattern": {
              "fillmode": "overlay",
              "size": 10,
              "solidity": 0.2
             }
            },
            "type": "barpolar"
           }
          ],
          "carpet": [
           {
            "aaxis": {
             "endlinecolor": "#2a3f5f",
             "gridcolor": "white",
             "linecolor": "white",
             "minorgridcolor": "white",
             "startlinecolor": "#2a3f5f"
            },
            "baxis": {
             "endlinecolor": "#2a3f5f",
             "gridcolor": "white",
             "linecolor": "white",
             "minorgridcolor": "white",
             "startlinecolor": "#2a3f5f"
            },
            "type": "carpet"
           }
          ],
          "choropleth": [
           {
            "colorbar": {
             "outlinewidth": 0,
             "ticks": ""
            },
            "type": "choropleth"
           }
          ],
          "contour": [
           {
            "colorbar": {
             "outlinewidth": 0,
             "ticks": ""
            },
            "colorscale": [
             [
              0,
              "#0d0887"
             ],
             [
              0.1111111111111111,
              "#46039f"
             ],
             [
              0.2222222222222222,
              "#7201a8"
             ],
             [
              0.3333333333333333,
              "#9c179e"
             ],
             [
              0.4444444444444444,
              "#bd3786"
             ],
             [
              0.5555555555555556,
              "#d8576b"
             ],
             [
              0.6666666666666666,
              "#ed7953"
             ],
             [
              0.7777777777777778,
              "#fb9f3a"
             ],
             [
              0.8888888888888888,
              "#fdca26"
             ],
             [
              1,
              "#f0f921"
             ]
            ],
            "type": "contour"
           }
          ],
          "contourcarpet": [
           {
            "colorbar": {
             "outlinewidth": 0,
             "ticks": ""
            },
            "type": "contourcarpet"
           }
          ],
          "heatmap": [
           {
            "colorbar": {
             "outlinewidth": 0,
             "ticks": ""
            },
            "colorscale": [
             [
              0,
              "#0d0887"
             ],
             [
              0.1111111111111111,
              "#46039f"
             ],
             [
              0.2222222222222222,
              "#7201a8"
             ],
             [
              0.3333333333333333,
              "#9c179e"
             ],
             [
              0.4444444444444444,
              "#bd3786"
             ],
             [
              0.5555555555555556,
              "#d8576b"
             ],
             [
              0.6666666666666666,
              "#ed7953"
             ],
             [
              0.7777777777777778,
              "#fb9f3a"
             ],
             [
              0.8888888888888888,
              "#fdca26"
             ],
             [
              1,
              "#f0f921"
             ]
            ],
            "type": "heatmap"
           }
          ],
          "heatmapgl": [
           {
            "colorbar": {
             "outlinewidth": 0,
             "ticks": ""
            },
            "colorscale": [
             [
              0,
              "#0d0887"
             ],
             [
              0.1111111111111111,
              "#46039f"
             ],
             [
              0.2222222222222222,
              "#7201a8"
             ],
             [
              0.3333333333333333,
              "#9c179e"
             ],
             [
              0.4444444444444444,
              "#bd3786"
             ],
             [
              0.5555555555555556,
              "#d8576b"
             ],
             [
              0.6666666666666666,
              "#ed7953"
             ],
             [
              0.7777777777777778,
              "#fb9f3a"
             ],
             [
              0.8888888888888888,
              "#fdca26"
             ],
             [
              1,
              "#f0f921"
             ]
            ],
            "type": "heatmapgl"
           }
          ],
          "histogram": [
           {
            "marker": {
             "pattern": {
              "fillmode": "overlay",
              "size": 10,
              "solidity": 0.2
             }
            },
            "type": "histogram"
           }
          ],
          "histogram2d": [
           {
            "colorbar": {
             "outlinewidth": 0,
             "ticks": ""
            },
            "colorscale": [
             [
              0,
              "#0d0887"
             ],
             [
              0.1111111111111111,
              "#46039f"
             ],
             [
              0.2222222222222222,
              "#7201a8"
             ],
             [
              0.3333333333333333,
              "#9c179e"
             ],
             [
              0.4444444444444444,
              "#bd3786"
             ],
             [
              0.5555555555555556,
              "#d8576b"
             ],
             [
              0.6666666666666666,
              "#ed7953"
             ],
             [
              0.7777777777777778,
              "#fb9f3a"
             ],
             [
              0.8888888888888888,
              "#fdca26"
             ],
             [
              1,
              "#f0f921"
             ]
            ],
            "type": "histogram2d"
           }
          ],
          "histogram2dcontour": [
           {
            "colorbar": {
             "outlinewidth": 0,
             "ticks": ""
            },
            "colorscale": [
             [
              0,
              "#0d0887"
             ],
             [
              0.1111111111111111,
              "#46039f"
             ],
             [
              0.2222222222222222,
              "#7201a8"
             ],
             [
              0.3333333333333333,
              "#9c179e"
             ],
             [
              0.4444444444444444,
              "#bd3786"
             ],
             [
              0.5555555555555556,
              "#d8576b"
             ],
             [
              0.6666666666666666,
              "#ed7953"
             ],
             [
              0.7777777777777778,
              "#fb9f3a"
             ],
             [
              0.8888888888888888,
              "#fdca26"
             ],
             [
              1,
              "#f0f921"
             ]
            ],
            "type": "histogram2dcontour"
           }
          ],
          "mesh3d": [
           {
            "colorbar": {
             "outlinewidth": 0,
             "ticks": ""
            },
            "type": "mesh3d"
           }
          ],
          "parcoords": [
           {
            "line": {
             "colorbar": {
              "outlinewidth": 0,
              "ticks": ""
             }
            },
            "type": "parcoords"
           }
          ],
          "pie": [
           {
            "automargin": true,
            "type": "pie"
           }
          ],
          "scatter": [
           {
            "fillpattern": {
             "fillmode": "overlay",
             "size": 10,
             "solidity": 0.2
            },
            "type": "scatter"
           }
          ],
          "scatter3d": [
           {
            "line": {
             "colorbar": {
              "outlinewidth": 0,
              "ticks": ""
             }
            },
            "marker": {
             "colorbar": {
              "outlinewidth": 0,
              "ticks": ""
             }
            },
            "type": "scatter3d"
           }
          ],
          "scattercarpet": [
           {
            "marker": {
             "colorbar": {
              "outlinewidth": 0,
              "ticks": ""
             }
            },
            "type": "scattercarpet"
           }
          ],
          "scattergeo": [
           {
            "marker": {
             "colorbar": {
              "outlinewidth": 0,
              "ticks": ""
             }
            },
            "type": "scattergeo"
           }
          ],
          "scattergl": [
           {
            "marker": {
             "colorbar": {
              "outlinewidth": 0,
              "ticks": ""
             }
            },
            "type": "scattergl"
           }
          ],
          "scattermapbox": [
           {
            "marker": {
             "colorbar": {
              "outlinewidth": 0,
              "ticks": ""
             }
            },
            "type": "scattermapbox"
           }
          ],
          "scatterpolar": [
           {
            "marker": {
             "colorbar": {
              "outlinewidth": 0,
              "ticks": ""
             }
            },
            "type": "scatterpolar"
           }
          ],
          "scatterpolargl": [
           {
            "marker": {
             "colorbar": {
              "outlinewidth": 0,
              "ticks": ""
             }
            },
            "type": "scatterpolargl"
           }
          ],
          "scatterternary": [
           {
            "marker": {
             "colorbar": {
              "outlinewidth": 0,
              "ticks": ""
             }
            },
            "type": "scatterternary"
           }
          ],
          "surface": [
           {
            "colorbar": {
             "outlinewidth": 0,
             "ticks": ""
            },
            "colorscale": [
             [
              0,
              "#0d0887"
             ],
             [
              0.1111111111111111,
              "#46039f"
             ],
             [
              0.2222222222222222,
              "#7201a8"
             ],
             [
              0.3333333333333333,
              "#9c179e"
             ],
             [
              0.4444444444444444,
              "#bd3786"
             ],
             [
              0.5555555555555556,
              "#d8576b"
             ],
             [
              0.6666666666666666,
              "#ed7953"
             ],
             [
              0.7777777777777778,
              "#fb9f3a"
             ],
             [
              0.8888888888888888,
              "#fdca26"
             ],
             [
              1,
              "#f0f921"
             ]
            ],
            "type": "surface"
           }
          ],
          "table": [
           {
            "cells": {
             "fill": {
              "color": "#EBF0F8"
             },
             "line": {
              "color": "white"
             }
            },
            "header": {
             "fill": {
              "color": "#C8D4E3"
             },
             "line": {
              "color": "white"
             }
            },
            "type": "table"
           }
          ]
         },
         "layout": {
          "annotationdefaults": {
           "arrowcolor": "#2a3f5f",
           "arrowhead": 0,
           "arrowwidth": 1
          },
          "autotypenumbers": "strict",
          "coloraxis": {
           "colorbar": {
            "outlinewidth": 0,
            "ticks": ""
           }
          },
          "colorscale": {
           "diverging": [
            [
             0,
             "#8e0152"
            ],
            [
             0.1,
             "#c51b7d"
            ],
            [
             0.2,
             "#de77ae"
            ],
            [
             0.3,
             "#f1b6da"
            ],
            [
             0.4,
             "#fde0ef"
            ],
            [
             0.5,
             "#f7f7f7"
            ],
            [
             0.6,
             "#e6f5d0"
            ],
            [
             0.7,
             "#b8e186"
            ],
            [
             0.8,
             "#7fbc41"
            ],
            [
             0.9,
             "#4d9221"
            ],
            [
             1,
             "#276419"
            ]
           ],
           "sequential": [
            [
             0,
             "#0d0887"
            ],
            [
             0.1111111111111111,
             "#46039f"
            ],
            [
             0.2222222222222222,
             "#7201a8"
            ],
            [
             0.3333333333333333,
             "#9c179e"
            ],
            [
             0.4444444444444444,
             "#bd3786"
            ],
            [
             0.5555555555555556,
             "#d8576b"
            ],
            [
             0.6666666666666666,
             "#ed7953"
            ],
            [
             0.7777777777777778,
             "#fb9f3a"
            ],
            [
             0.8888888888888888,
             "#fdca26"
            ],
            [
             1,
             "#f0f921"
            ]
           ],
           "sequentialminus": [
            [
             0,
             "#0d0887"
            ],
            [
             0.1111111111111111,
             "#46039f"
            ],
            [
             0.2222222222222222,
             "#7201a8"
            ],
            [
             0.3333333333333333,
             "#9c179e"
            ],
            [
             0.4444444444444444,
             "#bd3786"
            ],
            [
             0.5555555555555556,
             "#d8576b"
            ],
            [
             0.6666666666666666,
             "#ed7953"
            ],
            [
             0.7777777777777778,
             "#fb9f3a"
            ],
            [
             0.8888888888888888,
             "#fdca26"
            ],
            [
             1,
             "#f0f921"
            ]
           ]
          },
          "colorway": [
           "#636efa",
           "#EF553B",
           "#00cc96",
           "#ab63fa",
           "#FFA15A",
           "#19d3f3",
           "#FF6692",
           "#B6E880",
           "#FF97FF",
           "#FECB52"
          ],
          "font": {
           "color": "#2a3f5f"
          },
          "geo": {
           "bgcolor": "white",
           "lakecolor": "white",
           "landcolor": "#E5ECF6",
           "showlakes": true,
           "showland": true,
           "subunitcolor": "white"
          },
          "hoverlabel": {
           "align": "left"
          },
          "hovermode": "closest",
          "mapbox": {
           "style": "light"
          },
          "paper_bgcolor": "white",
          "plot_bgcolor": "#E5ECF6",
          "polar": {
           "angularaxis": {
            "gridcolor": "white",
            "linecolor": "white",
            "ticks": ""
           },
           "bgcolor": "#E5ECF6",
           "radialaxis": {
            "gridcolor": "white",
            "linecolor": "white",
            "ticks": ""
           }
          },
          "scene": {
           "xaxis": {
            "backgroundcolor": "#E5ECF6",
            "gridcolor": "white",
            "gridwidth": 2,
            "linecolor": "white",
            "showbackground": true,
            "ticks": "",
            "zerolinecolor": "white"
           },
           "yaxis": {
            "backgroundcolor": "#E5ECF6",
            "gridcolor": "white",
            "gridwidth": 2,
            "linecolor": "white",
            "showbackground": true,
            "ticks": "",
            "zerolinecolor": "white"
           },
           "zaxis": {
            "backgroundcolor": "#E5ECF6",
            "gridcolor": "white",
            "gridwidth": 2,
            "linecolor": "white",
            "showbackground": true,
            "ticks": "",
            "zerolinecolor": "white"
           }
          },
          "shapedefaults": {
           "line": {
            "color": "#2a3f5f"
           }
          },
          "ternary": {
           "aaxis": {
            "gridcolor": "white",
            "linecolor": "white",
            "ticks": ""
           },
           "baxis": {
            "gridcolor": "white",
            "linecolor": "white",
            "ticks": ""
           },
           "bgcolor": "#E5ECF6",
           "caxis": {
            "gridcolor": "white",
            "linecolor": "white",
            "ticks": ""
           }
          },
          "title": {
           "x": 0.05
          },
          "xaxis": {
           "automargin": true,
           "gridcolor": "white",
           "linecolor": "white",
           "ticks": "",
           "title": {
            "standoff": 15
           },
           "zerolinecolor": "white",
           "zerolinewidth": 2
          },
          "yaxis": {
           "automargin": true,
           "gridcolor": "white",
           "linecolor": "white",
           "ticks": "",
           "title": {
            "standoff": 15
           },
           "zerolinecolor": "white",
           "zerolinewidth": 2
          }
         }
        },
        "title": {
         "text": "AMGNN median Distances from simulation ray trace (mm) metric on test dataset",
         "x": 0.5
        },
        "width": 1560,
        "xaxis": {
         "anchor": "y",
         "autorange": true,
         "categoryorder": "total ascending",
         "domain": [
          0,
          1
         ],
         "range": [
          -0.5,
          15.5
         ],
         "title": {
          "text": "Model name"
         },
         "type": "category"
        },
        "yaxis": {
         "anchor": "x",
         "autorange": true,
         "domain": [
          0,
          1
         ],
         "range": [
          -0.022160643560067472,
          0.024048918706551847
         ],
         "title": {
          "text": "Distances from simulation ray trace (mm) metric"
         },
         "type": "linear"
        }
       }
      },
      "image/png": "[encoded data removed]",
      "text/html": [
       "<div>                            <div id=\"9a3a7095-1e92-4b54-a772-4c323c397c43\" class=\"plotly-graph-div\" style=\"height:1040.0px; width:1560.0px;\"></div>            <script type=\"text/javascript\">                require([\"plotly\"], function(Plotly) {                    window.PLOTLYENV=window.PLOTLYENV || {};                                    if (document.getElementById(\"9a3a7095-1e92-4b54-a772-4c323c397c43\")) {                    Plotly.newPlot(                        \"9a3a7095-1e92-4b54-a772-4c323c397c43\",                        [{\"alignmentgroup\":\"True\",\"error_y\":{\"array\":[0.001783442621981204,0.012260738362149191,0.006728974620524779,0.0022705646440745906]},\"hovertemplate\":\"Lambda values=\\u03bb_1:0.33 \\u03bb_2:0.33 \\u03bb_3:0.33<br>name=%{x}<br>metric=%{y}<extra></extra>\",\"legendgroup\":\"\\u03bb_1:0.33 \\u03bb_2:0.33 \\u03bb_3:0.33\",\"marker\":{\"color\":\"#636efa\",\"pattern\":{\"shape\":\"\"}},\"name\":\"\\u03bb_1:0.33 \\u03bb_2:0.33 \\u03bb_3:0.33\",\"offsetgroup\":\"\\u03bb_1:0.33 \\u03bb_2:0.33 \\u03bb_3:0.33\",\"orientation\":\"v\",\"showlegend\":true,\"textposition\":\"auto\",\"x\":[\"simple_conv_0.33_0.33_0.33lr_1e-03\",\"double_head_simple_conv_0.33_0.33_0.33lr_1e-03\",\"simple_gnn_0.33_0.33_0.33lr_1e-03\",\"double_head_simple_gnn_0.33_0.33_0.33lr_1e-03\"],\"xaxis\":\"x\",\"y\":[0.0002021351974690333,0.0003960428002756089,0.00054931640625,0.0010690339840948582],\"yaxis\":\"y\",\"type\":\"bar\"},{\"alignmentgroup\":\"True\",\"error_y\":{\"array\":[0.014078306909685569,0.013538647690232362,0.006908623056627935,0.003231391335461358]},\"hovertemplate\":\"Lambda values=\\u03bb_1:0.7 \\u03bb_2:0.15 \\u03bb_3:0.15<br>name=%{x}<br>metric=%{y}<extra></extra>\",\"legendgroup\":\"\\u03bb_1:0.7 \\u03bb_2:0.15 \\u03bb_3:0.15\",\"marker\":{\"color\":\"#EF553B\",\"pattern\":{\"shape\":\"\"}},\"name\":\"\\u03bb_1:0.7 \\u03bb_2:0.15 \\u03bb_3:0.15\",\"offsetgroup\":\"\\u03bb_1:0.7 \\u03bb_2:0.15 \\u03bb_3:0.15\",\"orientation\":\"v\",\"showlegend\":true,\"textposition\":\"auto\",\"x\":[\"double_head_simple_conv_0.7_0.15_0.15lr_1e-03\",\"simple_conv_0.7_0.15_0.15lr_1e-03\",\"double_head_simple_gnn_0.7_0.15_0.15lr_1e-03\",\"simple_gnn_0.7_0.15_0.15lr_1e-03\"],\"xaxis\":\"x\",\"y\":[0.0002647489891387522,0.0004507015401031822,0.00048828125,0.0006103515625],\"yaxis\":\"y\",\"type\":\"bar\"},{\"alignmentgroup\":\"True\",\"error_y\":{\"array\":[0.0057108603227045,0.018812938492952038,0.007030306570907297,0.006473732432003149]},\"hovertemplate\":\"Lambda values=\\u03bb_1:0.5 \\u03bb_2:0.25 \\u03bb_3:0.25<br>name=%{x}<br>metric=%{y}<extra></extra>\",\"legendgroup\":\"\\u03bb_1:0.5 \\u03bb_2:0.25 \\u03bb_3:0.25\",\"marker\":{\"color\":\"#00cc96\",\"pattern\":{\"shape\":\"\"}},\"name\":\"\\u03bb_1:0.5 \\u03bb_2:0.25 \\u03bb_3:0.25\",\"offsetgroup\":\"\\u03bb_1:0.5 \\u03bb_2:0.25 \\u03bb_3:0.25\",\"orientation\":\"v\",\"showlegend\":true,\"textposition\":\"auto\",\"x\":[\"simple_gnn_0.5_0.25_0.25lr_1e-03\",\"double_head_simple_conv_0.5_0.25_0.25lr_1e-03\",\"simple_conv_0.5_0.25_0.25lr_1e-03\",\"double_head_simple_gnn_0.5_0.25_0.25lr_1e-03\"],\"xaxis\":\"x\",\"y\":[0.00033874096698127687,0.0005167722702026367,0.0007534507312811911,0.0009918212890625],\"yaxis\":\"y\",\"type\":\"bar\"},{\"alignmentgroup\":\"True\",\"error_y\":{\"array\":[0.01657727646678643,0.013387087328402781,0.006857360630039232,0.020794303019978692]},\"hovertemplate\":\"Lambda values=\\u03bb_1:1 \\u03bb_2:0 \\u03bb_3:0<br>name=%{x}<br>metric=%{y}<extra></extra>\",\"legendgroup\":\"\\u03bb_1:1 \\u03bb_2:0 \\u03bb_3:0\",\"marker\":{\"color\":\"#ab63fa\",\"pattern\":{\"shape\":\"\"}},\"name\":\"\\u03bb_1:1 \\u03bb_2:0 \\u03bb_3:0\",\"offsetgroup\":\"\\u03bb_1:1 \\u03bb_2:0 \\u03bb_3:0\",\"orientation\":\"v\",\"showlegend\":true,\"textposition\":\"auto\",\"x\":[\"double_head_simple_conv_1_0_0lr_1e-03\",\"double_head_simple_gnn_1_0_0lr_1e-03\",\"simple_gnn_1_0_0lr_1e-03\",\"simple_conv_1_0_0lr_1e-03\"],\"xaxis\":\"x\",\"y\":[0.0004607746086549014,0.0005696886219084263,0.0006530884420499206,0.0009441375732421875],\"yaxis\":\"y\",\"type\":\"bar\"}],                        {\"template\":{\"data\":{\"histogram2dcontour\":[{\"type\":\"histogram2dcontour\",\"colorbar\":{\"outlinewidth\":0,\"ticks\":\"\"},\"colorscale\":[[0.0,\"#0d0887\"],[0.1111111111111111,\"#46039f\"],[0.2222222222222222,\"#7201a8\"],[0.3333333333333333,\"#9c179e\"],[0.4444444444444444,\"#bd3786\"],[0.5555555555555556,\"#d8576b\"],[0.6666666666666666,\"#ed7953\"],[0.7777777777777778,\"#fb9f3a\"],[0.8888888888888888,\"#fdca26\"],[1.0,\"#f0f921\"]]}],\"choropleth\":[{\"type\":\"choropleth\",\"colorbar\":{\"outlinewidth\":0,\"ticks\":\"\"}}],\"histogram2d\":[{\"type\":\"histogram2d\",\"colorbar\":{\"outlinewidth\":0,\"ticks\":\"\"},\"colorscale\":[[0.0,\"#0d0887\"],[0.1111111111111111,\"#46039f\"],[0.2222222222222222,\"#7201a8\"],[0.3333333333333333,\"#9c179e\"],[0.4444444444444444,\"#bd3786\"],[0.5555555555555556,\"#d8576b\"],[0.6666666666666666,\"#ed7953\"],[0.7777777777777778,\"#fb9f3a\"],[0.8888888888888888,\"#fdca26\"],[1.0,\"#f0f921\"]]}],\"heatmap\":[{\"type\":\"heatmap\",\"colorbar\":{\"outlinewidth\":0,\"ticks\":\"\"},\"colorscale\":[[0.0,\"#0d0887\"],[0.1111111111111111,\"#46039f\"],[0.2222222222222222,\"#7201a8\"],[0.3333333333333333,\"#9c179e\"],[0.4444444444444444,\"#bd3786\"],[0.5555555555555556,\"#d8576b\"],[0.6666666666666666,\"#ed7953\"],[0.7777777777777778,\"#fb9f3a\"],[0.8888888888888888,\"#fdca26\"],[1.0,\"#f0f921\"]]}],\"heatmapgl\":[{\"type\":\"heatmapgl\",\"colorbar\":{\"outlinewidth\":0,\"ticks\":\"\"},\"colorscale\":[[0.0,\"#0d0887\"],[0.1111111111111111,\"#46039f\"],[0.2222222222222222,\"#7201a8\"],[0.3333333333333333,\"#9c179e\"],[0.4444444444444444,\"#bd3786\"],[0.5555555555555556,\"#d8576b\"],[0.6666666666666666,\"#ed7953\"],[0.7777777777777778,\"#fb9f3a\"],[0.8888888888888888,\"#fdca26\"],[1.0,\"#f0f921\"]]}],\"contourcarpet\":[{\"type\":\"contourcarpet\",\"colorbar\":{\"outlinewidth\":0,\"ticks\":\"\"}}],\"contour\":[{\"type\":\"contour\",\"colorbar\":{\"outlinewidth\":0,\"ticks\":\"\"},\"colorscale\":[[0.0,\"#0d0887\"],[0.1111111111111111,\"#46039f\"],[0.2222222222222222,\"#7201a8\"],[0.3333333333333333,\"#9c179e\"],[0.4444444444444444,\"#bd3786\"],[0.5555555555555556,\"#d8576b\"],[0.6666666666666666,\"#ed7953\"],[0.7777777777777778,\"#fb9f3a\"],[0.8888888888888888,\"#fdca26\"],[1.0,\"#f0f921\"]]}],\"surface\":[{\"type\":\"surface\",\"colorbar\":{\"outlinewidth\":0,\"ticks\":\"\"},\"colorscale\":[[0.0,\"#0d0887\"],[0.1111111111111111,\"#46039f\"],[0.2222222222222222,\"#7201a8\"],[0.3333333333333333,\"#9c179e\"],[0.4444444444444444,\"#bd3786\"],[0.5555555555555556,\"#d8576b\"],[0.6666666666666666,\"#ed7953\"],[0.7777777777777778,\"#fb9f3a\"],[0.8888888888888888,\"#fdca26\"],[1.0,\"#f0f921\"]]}],\"mesh3d\":[{\"type\":\"mesh3d\",\"colorbar\":{\"outlinewidth\":0,\"ticks\":\"\"}}],\"scatter\":[{\"fillpattern\":{\"fillmode\":\"overlay\",\"size\":10,\"solidity\":0.2},\"type\":\"scatter\"}],\"parcoords\":[{\"type\":\"parcoords\",\"line\":{\"colorbar\":{\"outlinewidth\":0,\"ticks\":\"\"}}}],\"scatterpolargl\":[{\"type\":\"scatterpolargl\",\"marker\":{\"colorbar\":{\"outlinewidth\":0,\"ticks\":\"\"}}}],\"bar\":[{\"error_x\":{\"color\":\"#2a3f5f\"},\"error_y\":{\"color\":\"#2a3f5f\"},\"marker\":{\"line\":{\"color\":\"#E5ECF6\",\"width\":0.5},\"pattern\":{\"fillmode\":\"overlay\",\"size\":10,\"solidity\":0.2}},\"type\":\"bar\"}],\"scattergeo\":[{\"type\":\"scattergeo\",\"marker\":{\"colorbar\":{\"outlinewidth\":0,\"ticks\":\"\"}}}],\"scatterpolar\":[{\"type\":\"scatterpolar\",\"marker\":{\"colorbar\":{\"outlinewidth\":0,\"ticks\":\"\"}}}],\"histogram\":[{\"marker\":{\"pattern\":{\"fillmode\":\"overlay\",\"size\":10,\"solidity\":0.2}},\"type\":\"histogram\"}],\"scattergl\":[{\"type\":\"scattergl\",\"marker\":{\"colorbar\":{\"outlinewidth\":0,\"ticks\":\"\"}}}],\"scatter3d\":[{\"type\":\"scatter3d\",\"line\":{\"colorbar\":{\"outlinewidth\":0,\"ticks\":\"\"}},\"marker\":{\"colorbar\":{\"outlinewidth\":0,\"ticks\":\"\"}}}],\"scattermapbox\":[{\"type\":\"scattermapbox\",\"marker\":{\"colorbar\":{\"outlinewidth\":0,\"ticks\":\"\"}}}],\"scatterternary\":[{\"type\":\"scatterternary\",\"marker\":{\"colorbar\":{\"outlinewidth\":0,\"ticks\":\"\"}}}],\"scattercarpet\":[{\"type\":\"scattercarpet\",\"marker\":{\"colorbar\":{\"outlinewidth\":0,\"ticks\":\"\"}}}],\"carpet\":[{\"aaxis\":{\"endlinecolor\":\"#2a3f5f\",\"gridcolor\":\"white\",\"linecolor\":\"white\",\"minorgridcolor\":\"white\",\"startlinecolor\":\"#2a3f5f\"},\"baxis\":{\"endlinecolor\":\"#2a3f5f\",\"gridcolor\":\"white\",\"linecolor\":\"white\",\"minorgridcolor\":\"white\",\"startlinecolor\":\"#2a3f5f\"},\"type\":\"carpet\"}],\"table\":[{\"cells\":{\"fill\":{\"color\":\"#EBF0F8\"},\"line\":{\"color\":\"white\"}},\"header\":{\"fill\":{\"color\":\"#C8D4E3\"},\"line\":{\"color\":\"white\"}},\"type\":\"table\"}],\"barpolar\":[{\"marker\":{\"line\":{\"color\":\"#E5ECF6\",\"width\":0.5},\"pattern\":{\"fillmode\":\"overlay\",\"size\":10,\"solidity\":0.2}},\"type\":\"barpolar\"}],\"pie\":[{\"automargin\":true,\"type\":\"pie\"}]},\"layout\":{\"autotypenumbers\":\"strict\",\"colorway\":[\"#636efa\",\"#EF553B\",\"#00cc96\",\"#ab63fa\",\"#FFA15A\",\"#19d3f3\",\"#FF6692\",\"#B6E880\",\"#FF97FF\",\"#FECB52\"],\"font\":{\"color\":\"#2a3f5f\"},\"hovermode\":\"closest\",\"hoverlabel\":{\"align\":\"left\"},\"paper_bgcolor\":\"white\",\"plot_bgcolor\":\"#E5ECF6\",\"polar\":{\"bgcolor\":\"#E5ECF6\",\"angularaxis\":{\"gridcolor\":\"white\",\"linecolor\":\"white\",\"ticks\":\"\"},\"radialaxis\":{\"gridcolor\":\"white\",\"linecolor\":\"white\",\"ticks\":\"\"}},\"ternary\":{\"bgcolor\":\"#E5ECF6\",\"aaxis\":{\"gridcolor\":\"white\",\"linecolor\":\"white\",\"ticks\":\"\"},\"baxis\":{\"gridcolor\":\"white\",\"linecolor\":\"white\",\"ticks\":\"\"},\"caxis\":{\"gridcolor\":\"white\",\"linecolor\":\"white\",\"ticks\":\"\"}},\"coloraxis\":{\"colorbar\":{\"outlinewidth\":0,\"ticks\":\"\"}},\"colorscale\":{\"sequential\":[[0.0,\"#0d0887\"],[0.1111111111111111,\"#46039f\"],[0.2222222222222222,\"#7201a8\"],[0.3333333333333333,\"#9c179e\"],[0.4444444444444444,\"#bd3786\"],[0.5555555555555556,\"#d8576b\"],[0.6666666666666666,\"#ed7953\"],[0.7777777777777778,\"#fb9f3a\"],[0.8888888888888888,\"#fdca26\"],[1.0,\"#f0f921\"]],\"sequentialminus\":[[0.0,\"#0d0887\"],[0.1111111111111111,\"#46039f\"],[0.2222222222222222,\"#7201a8\"],[0.3333333333333333,\"#9c179e\"],[0.4444444444444444,\"#bd3786\"],[0.5555555555555556,\"#d8576b\"],[0.6666666666666666,\"#ed7953\"],[0.7777777777777778,\"#fb9f3a\"],[0.8888888888888888,\"#fdca26\"],[1.0,\"#f0f921\"]],\"diverging\":[[0,\"#8e0152\"],[0.1,\"#c51b7d\"],[0.2,\"#de77ae\"],[0.3,\"#f1b6da\"],[0.4,\"#fde0ef\"],[0.5,\"#f7f7f7\"],[0.6,\"#e6f5d0\"],[0.7,\"#b8e186\"],[0.8,\"#7fbc41\"],[0.9,\"#4d9221\"],[1,\"#276419\"]]},\"xaxis\":{\"gridcolor\":\"white\",\"linecolor\":\"white\",\"ticks\":\"\",\"title\":{\"standoff\":15},\"zerolinecolor\":\"white\",\"automargin\":true,\"zerolinewidth\":2},\"yaxis\":{\"gridcolor\":\"white\",\"linecolor\":\"white\",\"ticks\":\"\",\"title\":{\"standoff\":15},\"zerolinecolor\":\"white\",\"automargin\":true,\"zerolinewidth\":2},\"scene\":{\"xaxis\":{\"backgroundcolor\":\"#E5ECF6\",\"gridcolor\":\"white\",\"linecolor\":\"white\",\"showbackground\":true,\"ticks\":\"\",\"zerolinecolor\":\"white\",\"gridwidth\":2},\"yaxis\":{\"backgroundcolor\":\"#E5ECF6\",\"gridcolor\":\"white\",\"linecolor\":\"white\",\"showbackground\":true,\"ticks\":\"\",\"zerolinecolor\":\"white\",\"gridwidth\":2},\"zaxis\":{\"backgroundcolor\":\"#E5ECF6\",\"gridcolor\":\"white\",\"linecolor\":\"white\",\"showbackground\":true,\"ticks\":\"\",\"zerolinecolor\":\"white\",\"gridwidth\":2}},\"shapedefaults\":{\"line\":{\"color\":\"#2a3f5f\"}},\"annotationdefaults\":{\"arrowcolor\":\"#2a3f5f\",\"arrowhead\":0,\"arrowwidth\":1},\"geo\":{\"bgcolor\":\"white\",\"landcolor\":\"#E5ECF6\",\"subunitcolor\":\"white\",\"showland\":true,\"showlakes\":true,\"lakecolor\":\"white\"},\"title\":{\"x\":0.05},\"mapbox\":{\"style\":\"light\"}}},\"xaxis\":{\"anchor\":\"y\",\"domain\":[0.0,1.0],\"title\":{\"text\":\"Model name\"},\"categoryorder\":\"total ascending\"},\"yaxis\":{\"anchor\":\"x\",\"domain\":[0.0,1.0],\"title\":{\"text\":\"Distances from simulation ray trace (mm) metric\"}},\"legend\":{\"title\":{\"text\":\"Lambda values\"},\"tracegroupgap\":0,\"yanchor\":\"bottom\",\"y\":-0.4,\"orientation\":\"h\",\"xanchor\":\"center\",\"x\":0.5},\"margin\":{\"t\":60},\"barmode\":\"relative\",\"title\":{\"text\":\"AMGNN median Distances from simulation ray trace (mm) metric on test dataset\",\"x\":0.5},\"height\":1040.0,\"width\":1560.0},                        {\"responsive\": true}                    ).then(function(){\n",
       "                            \n",
       "var gd = document.getElementById('9a3a7095-1e92-4b54-a772-4c323c397c43');\n",
       "var x = new MutationObserver(function (mutations, observer) {{\n",
       "        var display = window.getComputedStyle(gd).display;\n",
       "        if (!display || display === 'none') {{\n",
       "            console.log([gd, 'removed!']);\n",
       "            Plotly.purge(gd);\n",
       "            observer.disconnect();\n",
       "        }}\n",
       "}});\n",
       "\n",
       "// Listen for the removal of the full notebook cells\n",
       "var notebookContainer = gd.closest('#notebook-container');\n",
       "if (notebookContainer) {{\n",
       "    x.observe(notebookContainer, {childList: true});\n",
       "}}\n",
       "\n",
       "// Listen for the clearing of the current output cell\n",
       "var outputEl = gd.closest('.output');\n",
       "if (outputEl) {{\n",
       "    x.observe(outputEl, {childList: true});\n",
       "}}\n",
       "\n",
       "                        })                };                });            </script>        </div>"
      ]
     },
     "metadata": {},
     "output_type": "display_data"
    }
   ],
   "source": [
    "METRIC_NAME = 'Distances from simulation ray trace (mm)'#\"Distances from simulation (mm)\"\n",
    "COMPUTE = \"median\"\n",
    "\n",
    "\n",
    "def generate_figure(METRIC_NAME, COMPUTE):\n",
    "    names = []\n",
    "    metrics = []\n",
    "    stds = []\n",
    "    lambdas = []\n",
    "\n",
    "    for run in tqdm(run_folders):\n",
    "        name = \"_\".join(run.name.split(\" \")[0].split(\"_\")[5:])\n",
    "        metric, std = extract_results(run, METRIC_NAME, COMPUTE)\n",
    "\n",
    "        names.append(name)\n",
    "        metrics.append(metric)\n",
    "        stds.append(std)\n",
    "\n",
    "        # Extract and format lambda parameters from the name\n",
    "        lamb = name.split(\"_\")[-4:-1]\n",
    "        lamb[2] = lamb[2].split(\"lr\")[0]\n",
    "        lamb = f\"\\u03BB_1:{lamb[0]} \\u03BB_2:{lamb[1]} \\u03BB_3:{lamb[2]}\"\n",
    "        #r'$\\sqrt{(n_\\text{c}(t|{T_\\text{early}}))}$',\n",
    "        lambdas.append(lamb)\n",
    "\n",
    "    data = pd.DataFrame()\n",
    "    data[\"name\"] = names\n",
    "    data[\"metric\"] = metrics\n",
    "    data[\"std\"] = stds\n",
    "    data[\"lambdas\"] = lambdas\n",
    "    data = data.sort_values(by=['metric'])\n",
    "    data.dtypes, data.head()\n",
    "\n",
    "    fig = px.bar(data, x=\"name\", y=\"metric\", error_y=\"std\", color=\"lambdas\" ,log_y=False,  labels={\"lambdas\": \"Lambda values\"})\n",
    "\n",
    "    fig.update_layout(\n",
    "        xaxis_title=\"Model name\", yaxis_title=f\"{METRIC_NAME} metric\"\n",
    "    )\n",
    "    fig.update_layout(legend=dict(\n",
    "        yanchor=\"bottom\",\n",
    "        y=-0.40,\n",
    "        orientation = \"h\",   # show entries horizontally\n",
    "        xanchor = \"center\",  # use center of legend as anchor\n",
    "        x = 0.5))             # put legend in center of x-axis\n",
    "\n",
    "\n",
    "    fig.update_layout(height=800*1.3, width=1200*1.3, title_text=f\"AMGNN {COMPUTE} {METRIC_NAME} metric on test dataset\",  title_x=0.5)\n",
    "    #fig.update_layout(xaxis=dict(autorange=\"reversed\"))\n",
    "    fig.update_layout(xaxis_categoryorder = 'total ascending')\n",
    "    fig.show()\n",
    "    fig.write_image(f\"{METRIC_NAME} {COMPUTE} AMGNN results hiltbertcube1.png\")\n",
    "    \n",
    "generate_figure(METRIC_NAME, COMPUTE)"
   ]
  },
  {
   "cell_type": "code",
   "execution_count": 9,
   "metadata": {},
   "outputs": [
    {
     "name": "stderr",
     "output_type": "stream",
     "text": [
      "100%|██████████████████████████████████████████████████████████████████████████████████████████████████████████████████████████████████████████████████████████████████████████████████████████████████| 16/16 [00:02<00:00,  7.33it/s]\n",
      "100%|██████████████████████████████████████████████████████████████████████████████████████████████████████████████████████████████████████████████████████████████████████████████████████████████████| 16/16 [00:02<00:00,  7.10it/s]\n",
      "100%|██████████████████████████████████████████████████████████████████████████████████████████████████████████████████████████████████████████████████████████████████████████████████████████████████| 16/16 [00:02<00:00,  7.24it/s]\n",
      "100%|██████████████████████████████████████████████████████████████████████████████████████████████████████████████████████████████████████████████████████████████████████████████████████████████████| 16/16 [00:02<00:00,  7.05it/s]\n",
      "100%|██████████████████████████████████████████████████████████████████████████████████████████████████████████████████████████████████████████████████████████████████████████████████████████████████| 16/16 [00:02<00:00,  6.10it/s]\n",
      "100%|██████████████████████████████████████████████████████████████████████████████████████████████████████████████████████████████████████████████████████████████████████████████████████████████████| 16/16 [00:02<00:00,  6.15it/s]\n",
      "100%|██████████████████████████████████████████████████████████████████████████████████████████████████████████████████████████████████████████████████████████████████████████████████████████████████| 16/16 [00:02<00:00,  6.25it/s]\n",
      "100%|██████████████████████████████████████████████████████████████████████████████████████████████████████████████████████████████████████████████████████████████████████████████████████████████████| 16/16 [00:02<00:00,  5.67it/s]\n",
      "100%|██████████████████████████████████████████████████████████████████████████████████████████████████████████████████████████████████████████████████████████████████████████████████████████████████| 16/16 [00:02<00:00,  5.88it/s]\n",
      "100%|██████████████████████████████████████████████████████████████████████████████████████████████████████████████████████████████████████████████████████████████████████████████████████████████████| 16/16 [00:02<00:00,  6.03it/s]\n",
      "100%|██████████████████████████████████████████████████████████████████████████████████████████████████████████████████████████████████████████████████████████████████████████████████████████████████| 16/16 [00:02<00:00,  6.02it/s]\n",
      "100%|██████████████████████████████████████████████████████████████████████████████████████████████████████████████████████████████████████████████████████████████████████████████████████████████████| 16/16 [00:02<00:00,  6.12it/s]\n",
      "100%|██████████████████████████████████████████████████████████████████████████████████████████████████████████████████████████████████████████████████████████████████████████████████████████████████| 16/16 [00:02<00:00,  5.93it/s]\n",
      "100%|██████████████████████████████████████████████████████████████████████████████████████████████████████████████████████████████████████████████████████████████████████████████████████████████████| 16/16 [00:02<00:00,  5.81it/s]\n",
      "100%|██████████████████████████████████████████████████████████████████████████████████████████████████████████████████████████████████████████████████████████████████████████████████████████████████| 16/16 [00:02<00:00,  5.92it/s]\n",
      "100%|██████████████████████████████████████████████████████████████████████████████████████████████████████████████████████████████████████████████████████████████████████████████████████████████████| 16/16 [00:02<00:00,  6.03it/s]\n",
      "100%|██████████████████████████████████████████████████████████████████████████████████████████████████████████████████████████████████████████████████████████████████████████████████████████████████| 16/16 [00:02<00:00,  6.11it/s]\n",
      "100%|██████████████████████████████████████████████████████████████████████████████████████████████████████████████████████████████████████████████████████████████████████████████████████████████████| 16/16 [00:02<00:00,  6.13it/s]\n",
      "100%|██████████████████████████████████████████████████████████████████████████████████████████████████████████████████████████████████████████████████████████████████████████████████████████████████| 16/16 [00:02<00:00,  6.11it/s]\n",
      "100%|██████████████████████████████████████████████████████████████████████████████████████████████████████████████████████████████████████████████████████████████████████████████████████████████████| 16/16 [00:02<00:00,  6.12it/s]\n",
      "100%|██████████████████████████████████████████████████████████████████████████████████████████████████████████████████████████████████████████████████████████████████████████████████████████████████| 16/16 [00:02<00:00,  7.03it/s]\n",
      "100%|██████████████████████████████████████████████████████████████████████████████████████████████████████████████████████████████████████████████████████████████████████████████████████████████████| 16/16 [00:02<00:00,  7.03it/s]\n",
      "100%|██████████████████████████████████████████████████████████████████████████████████████████████████████████████████████████████████████████████████████████████████████████████████████████████████| 16/16 [00:02<00:00,  6.97it/s]\n",
      "100%|██████████████████████████████████████████████████████████████████████████████████████████████████████████████████████████████████████████████████████████████████████████████████████████████████| 16/16 [00:02<00:00,  6.94it/s]\n",
      "100%|██████████████████████████████████████████████████████████████████████████████████████████████████████████████████████████████████████████████████████████████████████████████████████████████████| 16/16 [00:02<00:00,  7.05it/s]\n",
      "100%|██████████████████████████████████████████████████████████████████████████████████████████████████████████████████████████████████████████████████████████████████████████████████████████████████| 16/16 [00:02<00:00,  7.02it/s]\n",
      "100%|██████████████████████████████████████████████████████████████████████████████████████████████████████████████████████████████████████████████████████████████████████████████████████████████████| 16/16 [00:02<00:00,  7.06it/s]\n",
      "100%|██████████████████████████████████████████████████████████████████████████████████████████████████████████████████████████████████████████████████████████████████████████████████████████████████| 16/16 [00:02<00:00,  6.95it/s]\n",
      "100%|██████████████████████████████████████████████████████████████████████████████████████████████████████████████████████████████████████████████████████████████████████████████████████████████████| 16/16 [00:02<00:00,  7.10it/s]\n",
      "100%|██████████████████████████████████████████████████████████████████████████████████████████████████████████████████████████████████████████████████████████████████████████████████████████████████| 16/16 [00:02<00:00,  7.07it/s]\n",
      "100%|██████████████████████████████████████████████████████████████████████████████████████████████████████████████████████████████████████████████████████████████████████████████████████████████████| 16/16 [00:02<00:00,  7.03it/s]\n",
      "100%|██████████████████████████████████████████████████████████████████████████████████████████████████████████████████████████████████████████████████████████████████████████████████████████████████| 16/16 [00:02<00:00,  7.10it/s]\n",
      "100%|██████████████████████████████████████████████████████████████████████████████████████████████████████████████████████████████████████████████████████████████████████████████████████████████████| 16/16 [00:02<00:00,  7.09it/s]\n",
      "100%|██████████████████████████████████████████████████████████████████████████████████████████████████████████████████████████████████████████████████████████████████████████████████████████████████| 16/16 [00:02<00:00,  7.07it/s]\n",
      "100%|██████████████████████████████████████████████████████████████████████████████████████████████████████████████████████████████████████████████████████████████████████████████████████████████████| 16/16 [00:02<00:00,  7.09it/s]\n",
      "100%|██████████████████████████████████████████████████████████████████████████████████████████████████████████████████████████████████████████████████████████████████████████████████████████████████| 16/16 [00:02<00:00,  7.02it/s]\n",
      "100%|██████████████████████████████████████████████████████████████████████████████████████████████████████████████████████████████████████████████████████████████████████████████████████████████████| 16/16 [00:02<00:00,  7.05it/s]\n",
      "100%|██████████████████████████████████████████████████████████████████████████████████████████████████████████████████████████████████████████████████████████████████████████████████████████████████| 16/16 [00:02<00:00,  6.99it/s]\n",
      "100%|██████████████████████████████████████████████████████████████████████████████████████████████████████████████████████████████████████████████████████████████████████████████████████████████████| 16/16 [00:02<00:00,  6.94it/s]\n",
      "100%|██████████████████████████████████████████████████████████████████████████████████████████████████████████████████████████████████████████████████████████████████████████████████████████████████| 16/16 [00:02<00:00,  7.10it/s]\n"
     ]
    }
   ],
   "source": [
    "mets = ['Distances from simulation ray trace (mm)', 'Simufact', 'AMGNN',  'Difference',  'MSE',  'L1',  'L2',  'implicit_distance',  'Distances from simulation (mm)']\n",
    "computes = [\"min\", \"max\", \"mean\", \"median\"]\n",
    "\n",
    "for m in mets:\n",
    "    for c in computes:\n",
    "        generate_figure(m,c)"
   ]
  },
  {
   "cell_type": "code",
   "execution_count": null,
   "metadata": {},
   "outputs": [],
   "source": []
  },
  {
   "cell_type": "code",
   "execution_count": null,
   "metadata": {},
   "outputs": [],
   "source": []
  },
  {
   "cell_type": "code",
   "execution_count": null,
   "metadata": {},
   "outputs": [],
   "source": []
  }
 ],
 "metadata": {
  "kernelspec": {
   "display_name": "Python 3 (ipykernel)",
   "language": "python",
   "name": "python3"
  },
  "language_info": {
   "codemirror_mode": {
    "name": "ipython",
    "version": 3
   },
   "file_extension": ".py",
   "mimetype": "text/x-python",
   "name": "python",
   "nbconvert_exporter": "python",
   "pygments_lexer": "ipython3",
   "version": "3.9.7"
  }
 },
 "nbformat": 4,
 "nbformat_minor": 4
}
