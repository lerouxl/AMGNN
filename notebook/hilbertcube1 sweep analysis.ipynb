{
 "cells": [
  {
   "cell_type": "markdown",
   "source": [
    "# Analysis of the HilbertCube1 sweep results\n",
    "\n",
    "This analysis will:\n",
    "1- Load the csv results files on the shape comparison of this analysis\n",
    "2- Compare the error results with the differents metrics"
   ],
   "metadata": {
    "collapsed": false
   }
  },
  {
   "cell_type": "code",
   "execution_count": 7,
   "outputs": [],
   "source": [
    "import numpy\n",
    "import plotly\n",
    "from pathlib import Path\n",
    "from tqdm import tqdm"
   ],
   "metadata": {
    "collapsed": false
   }
  },
  {
   "cell_type": "markdown",
   "source": [
    "## Variables"
   ],
   "metadata": {
    "collapsed": false
   }
  },
  {
   "cell_type": "code",
   "execution_count": 5,
   "outputs": [],
   "source": [
    "DATA_PATH = Path(r\"C:\\Users\\Cardiff\\OneDrive - Cardiff University\\Results\\HilbertCube1\")"
   ],
   "metadata": {
    "collapsed": false
   }
  },
  {
   "cell_type": "markdown",
   "source": [
    "## Data loading"
   ],
   "metadata": {
    "collapsed": false
   }
  },
  {
   "cell_type": "code",
   "execution_count": 6,
   "outputs": [
    {
     "data": {
      "text/plain": "[WindowsPath('C:/Users/Cardiff/OneDrive - Cardiff University/Results/HilbertCube1/2023_03_08_15_23_simple_gnn_1_0_0lr_1e-03 test_output.csv'),\n WindowsPath('C:/Users/Cardiff/OneDrive - Cardiff University/Results/HilbertCube1/2023_03_08_16_49_simple_gnn_1_0_0lr_1e-04 test_output.csv'),\n WindowsPath('C:/Users/Cardiff/OneDrive - Cardiff University/Results/HilbertCube1/2023_03_20_18_49_simple_gnn_0.7_0.15_0.15lr_1e-03 test_output.csv'),\n WindowsPath('C:/Users/Cardiff/OneDrive - Cardiff University/Results/HilbertCube1/2023_03_21_09_14_simple_gnn_1_0_0lr_1e-03 test_output.csv'),\n WindowsPath('C:/Users/Cardiff/OneDrive - Cardiff University/Results/HilbertCube1/2023_03_21_23_39_double_head_simple_gnn_1_0_0lr_1e-03 test_output.csv'),\n WindowsPath('C:/Users/Cardiff/OneDrive - Cardiff University/Results/HilbertCube1/2023_03_22_14_23_simple_conv_1_0_0lr_1e-03 test_output.csv'),\n WindowsPath('C:/Users/Cardiff/OneDrive - Cardiff University/Results/HilbertCube1/2023_03_23_05_24_double_head_simple_conv_0.7_0.15_0.15lr_1e-03 test_output.csv'),\n WindowsPath('C:/Users/Cardiff/OneDrive - Cardiff University/Results/HilbertCube1/2023_03_23_11_55_simple_conv_0.5_0.25_0.25lr_1e-03 test_output.csv'),\n WindowsPath('C:/Users/Cardiff/OneDrive - Cardiff University/Results/HilbertCube1/2023_03_23_12_23_double_head_simple_conv_0.5_0.25_0.25lr_1e-03 test_output.csv'),\n WindowsPath('C:/Users/Cardiff/OneDrive - Cardiff University/Results/HilbertCube1/2023_03_23_19_09_simple_conv_0.33_0.33_0.33lr_1e-03 test_output.csv'),\n WindowsPath('C:/Users/Cardiff/OneDrive - Cardiff University/Results/HilbertCube1/2023_03_23_20_27_double_head_simple_conv_0.33_0.33_0.33lr_1e-03 test_output.csv'),\n WindowsPath('C:/Users/Cardiff/OneDrive - Cardiff University/Results/HilbertCube1/2023_03_24_13_25_double_head_simple_gnn_0.7_0.15_0.15lr_1e-03 test_output.csv'),\n WindowsPath('C:/Users/Cardiff/OneDrive - Cardiff University/Results/HilbertCube1/2023_03_25_04_31_simple_gnn_0.33_0.33_0.33lr_1e-03 test_output.csv'),\n WindowsPath('C:/Users/Cardiff/OneDrive - Cardiff University/Results/HilbertCube1/2023_03_25_19_08_double_head_simple_gnn_0.33_0.33_0.33lr_1e-03 test_output.csv'),\n WindowsPath('C:/Users/Cardiff/OneDrive - Cardiff University/Results/HilbertCube1/2023_04_04_14_28_double_head_simple_conv_1_0_0lr_1e-03 test_output.csv'),\n WindowsPath('C:/Users/Cardiff/OneDrive - Cardiff University/Results/HilbertCube1/2023_04_05_05_17_simple_conv_0.7_0.15_0.15lr_1e-03 test_output.csv'),\n WindowsPath('C:/Users/Cardiff/OneDrive - Cardiff University/Results/HilbertCube1/2023_04_05_20_14_simple_gnn_0.5_0.25_0.25lr_1e-03 test_output.csv'),\n WindowsPath('C:/Users/Cardiff/OneDrive - Cardiff University/Results/HilbertCube1/2023_04_06_17_32_double_head_simple_gnn_0.5_0.25_0.25lr_1e-03 test_output.csv')]"
     },
     "execution_count": 6,
     "metadata": {},
     "output_type": "execute_result"
    }
   ],
   "source": [
    "csv_files = DATA_PATH.glob(\"*.csv\")\n",
    "csv_files = list(csv_files)\n",
    "csv_files"
   ],
   "metadata": {
    "collapsed": false
   }
  },
  {
   "cell_type": "code",
   "execution_count": null,
   "outputs": [],
   "source": [],
   "metadata": {
    "collapsed": false
   }
  }
 ],
 "metadata": {
  "kernelspec": {
   "display_name": "Python 3",
   "language": "python",
   "name": "python3"
  },
  "language_info": {
   "codemirror_mode": {
    "name": "ipython",
    "version": 2
   },
   "file_extension": ".py",
   "mimetype": "text/x-python",
   "name": "python",
   "nbconvert_exporter": "python",
   "pygments_lexer": "ipython2",
   "version": "2.7.6"
  }
 },
 "nbformat": 4,
 "nbformat_minor": 0
}
